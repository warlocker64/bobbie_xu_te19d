{
 "metadata": {
  "language_info": {
   "codemirror_mode": {
    "name": "ipython",
    "version": 3
   },
   "file_extension": ".py",
   "mimetype": "text/x-python",
   "name": "python",
   "nbconvert_exporter": "python",
   "pygments_lexer": "ipython3",
   "version": "3.9.5"
  },
  "orig_nbformat": 2,
  "kernelspec": {
   "name": "python395jvsc74a57bd083abf7775aa164ac791d42e23a6d4591e352ab1950fcc5f712674885c85bb0dd",
   "display_name": "Python 3.9.5 64-bit (windows store)"
  },
  "metadata": {
   "interpreter": {
    "hash": "83abf7775aa164ac791d42e23a6d4591e352ab1950fcc5f712674885c85bb0dd"
   }
  }
 },
 "nbformat": 4,
 "nbformat_minor": 2,
 "cells": [
  {
   "cell_type": "code",
   "execution_count": null,
   "metadata": {},
   "outputs": [],
   "source": [
    "import pandas as pd\n",
    "import numpy as np\n",
    "import matplotlib.pyplot as plt\n",
    "df = pd.read_csv(\"Dödapermonth.csv\")\n",
    "print(df)\n",
    "\n",
    "values = df[\"National_Daily_Deaths\"]\n",
    "plt.plot(values)\n",
    "plt.xlabel(\"Dag\")\n",
    "plt.ylabel(\"Antal döda\")\n"
   ]
  },
  {
   "cell_type": "code",
   "execution_count": null,
   "metadata": {},
   "outputs": [],
   "source": [
    "import pandas as pd #Import pands som pd\n",
    "import matplotlib.pyplot as plt # Import matplotlib för att få grafer som plt.\n",
    "df = pd.read_csv(\"Genderdata.csv\") #Läser Csv \n",
    "män = df.query('Gender == \"Male\"')['Total_Cases'].sum() #Plockar ut från kolumnen Gender \"Male\" och tar Sum av den från \"Totalcases\"\n",
    "kvinnor = df.query('Gender ==\"Female\"')['Total_Cases'].sum() #samma sak här fast för kvinnor\n",
    "labels = [\"Antal Män\" ,\" Antal Kvinnor\"] # Skapar ett circlediagram namn för varje group.\n",
    "sizes = [män , kvinnor] #lägg till antal \n",
    "color = [\"red\", \"Blue\"] #färgen\n",
    "plt.figure(figsize=(7,3))# Storkleken \n",
    "\n",
    "plt.pie(sizes, colors=color, labels=labels, autopct=\"%1.1f%%\", shadow=True) # skapar circlediagramet\n",
    "plt.title(\"Antal Män och kvinnor Cases\") # Title för circle diagramet \n"
   ]
  },
  {
   "cell_type": "code",
   "execution_count": null,
   "metadata": {},
   "outputs": [],
   "source": [
    "\n",
    "import pandas as pd \n",
    "import matplotlib.pyplot as plt\n",
    "import numpy as np\n",
    "df = pd.read_csv(\"Region.csv\") # läser av csv\n",
    "df.iloc[0:20] # test csv \n",
    "cases = [] # skapar lista\n",
    "region = [] # skapar lista\n",
    "for antal in df[\"Total_Cases\"]: #lägger in allt från Total_cases i en lista för att göra det enklare att lägga in i ett diagram\n",
    "    cases.append(antal)\n",
    "for count in df[\"Region\"]: # samma sak fast för \"Region\"\n",
    "    region.append(count)\n",
    "\n",
    "x_pos = np.arange(len(region))# Skapar staplar \n",
    "plt.figure(figsize=(25, 15)) # Storlek på diagramet \n",
    "plt.bar(x_pos,cases, width = 0.1, color = [\"cyan\"]) # lägger in listan i digramet och storkel på staplarna samt färg.\n",
    "plt.xticks(x_pos, region, color=\"black\") # samma för fast för namnen \n",
    "plt.xlabel(\"Region\") #namn för digram x title\n",
    "plt.ylabel(\"Antal Cases\") # namn för digram y title \n",
    "plt.show() # Show lTtttttttttttttttttttttttttttttt"
   ]
  },
  {
   "cell_type": "code",
   "execution_count": null,
   "metadata": {},
   "outputs": [],
   "source": []
  }
 ]
}