{
 "metadata": {
  "language_info": {
   "codemirror_mode": {
    "name": "ipython",
    "version": 3
   },
   "file_extension": ".py",
   "mimetype": "text/x-python",
   "name": "python",
   "nbconvert_exporter": "python",
   "pygments_lexer": "ipython3",
   "version": "3.8.3"
  },
  "orig_nbformat": 2,
  "kernelspec": {
   "name": "python383jvsc74a57bd08d036fd8f635423ac2adcd9e0ff09cbb849e66849b5a354741d74fef62ecf013",
   "display_name": "Python 3.8.3 64-bit ('base': conda)"
  },
  "metadata": {
   "interpreter": {
    "hash": "83abf7775aa164ac791d42e23a6d4591e352ab1950fcc5f712674885c85bb0dd"
   }
  }
 },
 "nbformat": 4,
 "nbformat_minor": 2,
 "cells": [
  {
   "cell_type": "code",
   "execution_count": null,
   "metadata": {},
   "outputs": [],
   "source": [
    "import pandas as pd\n",
    "import numpy as np\n",
    "import matplotlib.pyplot as plt\n",
    "df = pd.read_csv(\"Dödapermonth.csv\")\n",
    "print(df)\n",
    "\n",
    "values = df[\"National_Daily_Deaths\"]\n",
    "plt.plot(values)\n",
    "plt.xlabel(\"Dag\")\n",
    "plt.ylabel(\"Antal döda\")\n"
   ]
  },
  {
   "cell_type": "code",
   "execution_count": null,
   "metadata": {},
   "outputs": [],
   "source": [
    "import pandas as pd #Import pands som pd\n",
    "import matplotlib.pyplot as plt # Import matplotlib för att få grafer som plt.\n",
    "import plotly.express as px\n",
    "df = pd.read_csv(\"Genderdata.csv\") #Läser Csv \n",
    "män = df.query('Gender == \"Male\"')['Total_Cases'].sum() #Plockar ut från kolumnen Gender \"Male\" och tar Sum av den från \"Totalcases\"\n",
    "kvinnor = df.query('Gender ==\"Female\"')['Total_Cases'].sum() #samma sak här fast för kvinnor\n",
    "\n",
    "labels = [\"Antal Män\" ,\" Antal Kvinnor\"] # Skapar ett circlediagram namn för varje group.\n",
    "sizes = [män , kvinnor] #lägg till antal \n",
    "color = [\"red\", \"Blue\"] #färgen\n",
    "plt.figure(figsize=(7,3))# Storkleken \n",
    "\n",
    "plt.pie(sizes, colors=color, labels=labels, autopct=\"%1.1f%%\", shadow=True) # skapar circlediagramet\n",
    "plt.title(\"Antal Män och kvinnor Cases\") # Title för circle diagramet\n",
    "fig = px.pie(df, names= labels , values = sizes, title = \"Män och Kvinnor gällande Covid-19\")\n",
    "fig.show()"
   ]
  },
  {
   "cell_type": "code",
   "execution_count": null,
   "metadata": {},
   "outputs": [],
   "source": [
    "import plotly.express as px \n",
    "import pandas as pd \n",
    "import matplotlib.pyplot as plt\n",
    "import numpy as np\n",
    "df = pd.read_csv(\"Region.csv\") # läser av csv\n",
    " # test csv \n",
    "cases = df[\"Total_Cases\"] #Tar från kolumen \"Total_Cases\"\n",
    "region = df[\"Region\"]\n",
    "\n",
    "x_pos = np.arange(len(region))# Skapar staplar \n",
    "plt.figure(figsize=(5, 5)) # Storlek på diagramet \n",
    "plt.bar(x_pos,cases, width = 0.5, color = [\"cyan\"]) # lägger in listan i digramet och storkel på staplarna samt färg.\n",
    "plt.xticks(x_pos, region, color=\"black\", rotation = 90) # samma för fast för namnen \n",
    "plt.xlabel(\"Region\") #namn för digram x title\n",
    "plt.ylabel(\"Antal Cases\") # namn för digram y title\n",
    "plt.show() # Show lTtttttttttttttttttttttttttttttt\n",
    "plt.plot(region,cases)\n",
    "plt.xticks(rotation=90) # Rotation The name on X Axlen.\n",
    "plt.figure(figsize=(25, 15))"
   ]
  },
  {
   "cell_type": "code",
   "execution_count": null,
   "metadata": {},
   "outputs": [],
   "source": [
    "\n",
    "import plotly.express as px \n",
    "import pandas as pd\n",
    "from plotly.subplots import make_subplots\n",
    "import plotly.graph_objects as go\n",
    "df = pd.read_csv(\"Region.csv\") #Read Csv\n",
    "df.iloc[0:24] #För att kolla tabellerna \n",
    "Region = df[\"Region\"] # Varibales plockar ut från kolumerna \n",
    "Cases = df[\"Total_Cases\"]\n",
    "Admin = df[\"Total_ICU_Admissions\"]\n",
    "Deaths = df[\"Total_Deaths\"]\n",
    "Casesper100k = df[\"Cases_per_100k_Pop\"]\n",
    "\n",
    "fig = make_subplots(rows = 2, cols = 2, subplot_titles = (\"Cases Per Region\", \"Cases In ICU_ADmissions\", \"Antal Deaths per Region\", \"Antal Cases for 100k\")) # Skapar Subplots för 4 Grafer med titels\n",
    "fig.add_trace(go.Scatter( x = Region , y = Cases), row= 1, col= 1) # Lägger till en graf med Region som x och y som cases på raden 1 kolumenen 1\n",
    "fig.add_trace(go.Bar( x = Region , y = Admin), row= 1, col= 2) #raden 1 och kolumenen 2 fast detta är för Deaths per region.\n",
    "fig.add_trace(go.Line( x = Region, y = Deaths), row= 2, col= 1) #Ect.\n",
    "fig.add_trace(go.Box( x = Region , y = Casesper100k), row= 2, col= 2)\n",
    "\n",
    "fig.update_layout(title = \"Information About Covid In Each Region In Sweden\", font=dict(size = 10,color = \"Skyblue\"))#Title för hela subploten. och ändrar size och färgen på texterna.\n",
    "fig.update_xaxes(tickangle=45, tickfont=dict(size=10)) #Ändrar X labels. Ändrar size och angel på x labelerna.\n",
    "figs = px.pie(df, values = Cases, names =  Region, title = \"Cases for each Region\") #circle diagram\n",
    "fig.show() # Show.\n",
    "figs.show()"
   ]
  },
  {
   "cell_type": "code",
   "execution_count": null,
   "metadata": {},
   "outputs": [],
   "source": [
    "import dash # Dashboard.\n",
    "import dash_core_components as dcc\n",
    "import dash_html_components as html\n",
    "import plotly.express as px\n",
    "import pandas as pd\n",
    "import plotly.graph_objects as goc\n",
    "\n",
    "df = pd.read_csv(\"Dödapermonth.csv\")\n",
    "\n",
    "Day = df[\"Date\"]\n",
    "Dead = df[\"National_Daily_Deaths\"]\n",
    "\n",
    "\n",
    "fig = px.scatter(df,x = Day , y = Dead)\n",
    "\n",
    "app = dash.Dash()\n",
    "app.layout = html.Div([\n",
    "    dcc.Graph(figure=fig)\n",
    "])\n",
    "\n",
    "app.run_server(debug=True, use_reloader=False) "
   ]
  },
  {
   "cell_type": "code",
   "execution_count": null,
   "metadata": {},
   "outputs": [],
   "source": []
  }
 ]
}