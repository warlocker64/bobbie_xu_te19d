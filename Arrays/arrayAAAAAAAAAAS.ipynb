{
 "metadata": {
  "language_info": {
   "codemirror_mode": {
    "name": "ipython",
    "version": 3
   },
   "file_extension": ".py",
   "mimetype": "text/x-python",
   "name": "python",
   "nbconvert_exporter": "python",
   "pygments_lexer": "ipython3",
   "version": "3.9.2-final"
  },
  "orig_nbformat": 2,
  "kernelspec": {
   "name": "python3",
   "display_name": "Python 3.9.2 64-bit",
   "metadata": {
    "interpreter": {
     "hash": "5d00308750d4803cff6f6ef4ae719a260153265e9b1ccfcf3732e725a48b6d60"
    }
   }
  }
 },
 "nbformat": 4,
 "nbformat_minor": 2,
 "cells": [
  {
   "cell_type": "code",
   "execution_count": 19,
   "metadata": {},
   "outputs": [
    {
     "output_type": "stream",
     "name": "stdout",
     "text": [
      "A)[ 1  2  3  4  5  6  7  8  9 10]\nB)[-10  -9  -8  -7  -6  -5  -4  -3  -2  -1   0   1   2   3   4   5   6   7\n   8   9  10]\n"
     ]
    }
   ],
   "source": [
    "import numpy as np\n",
    "lista = np.arange(1,11)\n",
    "lista2 = np.arange(-10,11)\n",
    "print(f\"A){lista}\\nB){lista2}\")"
   ]
  },
  {
   "cell_type": "code",
   "execution_count": 39,
   "metadata": {},
   "outputs": [
    {
     "output_type": "stream",
     "name": "stdout",
     "text": [
      "[ 100  200  300  400  500  600  700  800  900 1000]\n"
     ]
    }
   ],
   "source": [
    "lista = np.arange(1,11)*10\n",
    "lista10 = lista*10\n",
    "print(lista10)"
   ]
  },
  {
   "cell_type": "code",
   "execution_count": 23,
   "metadata": {},
   "outputs": [
    {
     "output_type": "stream",
     "name": "stdout",
     "text": [
      "1 Abracadabra\n2 Abracadabra\n3 Abracadabra\n4 Abracadabra\n5 Abracadabra\n6 Abracadabra\n7 Abracadabra\n8 Abracadabra\n9 Abracadabra\n10 Abracadabra\n"
     ]
    }
   ],
   "source": [
    "amount = int(input(\"Spell AMount\"))\n",
    "number = 0\n",
    "for time in range(amount):\n",
    "    number += 1\n",
    "    print(f\"{number} Abracadabra\")\n"
   ]
  },
  {
   "cell_type": "code",
   "execution_count": null,
   "metadata": {},
   "outputs": [],
   "source": []
  }
 ]
}