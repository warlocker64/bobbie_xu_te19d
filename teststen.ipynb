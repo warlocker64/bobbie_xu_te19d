{
 "metadata": {
  "language_info": {
   "codemirror_mode": {
    "name": "ipython",
    "version": 3
   },
   "file_extension": ".py",
   "mimetype": "text/x-python",
   "name": "python",
   "nbconvert_exporter": "python",
   "pygments_lexer": "ipython3",
   "version": "3.9.5"
  },
  "orig_nbformat": 2,
  "kernelspec": {
   "name": "python395jvsc74a57bd083abf7775aa164ac791d42e23a6d4591e352ab1950fcc5f712674885c85bb0dd",
   "display_name": "Python 3.9.5 64-bit (windows store)"
  },
  "metadata": {
   "interpreter": {
    "hash": "83abf7775aa164ac791d42e23a6d4591e352ab1950fcc5f712674885c85bb0dd"
   }
  }
 },
 "nbformat": 4,
 "nbformat_minor": 2,
 "cells": [
  {
   "cell_type": "code",
   "execution_count": 67,
   "metadata": {},
   "outputs": [
    {
     "output_type": "stream",
     "name": "stdout",
     "text": [
      "yes\n",
      "yes\n",
      "yes\n",
      "yes\n",
      "yes\n",
      "tie\n"
     ]
    }
   ],
   "source": [
    "import random as rnd\n",
    "kast = [\"yes\", \"no\"]\n",
    "bot = rnd.choice(kast)\n",
    "def hand(x):\n",
    "    if x == bot:\n",
    "        print(\"tie\")\n",
    "    else:\n",
    "        print(\"no\")\n",
    "y = int(input())\n",
    "for i in range(y):\n",
    "    x = str(input(\"Skriv yes or no\"))\n",
    "    print(bot)\n",
    "hand(x)"
   ]
  },
  {
   "cell_type": "code",
   "execution_count": null,
   "metadata": {},
   "outputs": [],
   "source": []
  }
 ]
}