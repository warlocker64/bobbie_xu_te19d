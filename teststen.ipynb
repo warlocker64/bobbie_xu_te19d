{
 "cells": [
  {
   "cell_type": "code",
   "execution_count": null,
   "metadata": {},
   "outputs": [],
   "source": [
    "import random as rnd\n",
    "kast = [\"yes\", \"no\"]\n",
    "bot = rnd.choice(kast)\n",
    "def hand(x):\n",
    "    if x == bot:\n",
    "        print(\"tie\")\n",
    "    else:\n",
    "        print(\"no\")\n",
    "y = int(input())\n",
    "for i in range(y):\n",
    "    x = str(input(\"Skriv yes or no\"))\n",
    "    print(bot)\n",
    "hand(x)"
   ]
  },
  {
   "cell_type": "code",
   "execution_count": 1,
   "metadata": {},
   "outputs": [
    {
     "ename": "TypeError",
     "evalue": "'NoneType' object is not subscriptable",
     "output_type": "error",
     "traceback": [
      "\u001b[1;31m---------------------------------------------------------------------------\u001b[0m",
      "\u001b[1;31mTypeError\u001b[0m                                 Traceback (most recent call last)",
      "\u001b[1;32m<ipython-input-1-f66469d75c3e>\u001b[0m in \u001b[0;36m<module>\u001b[1;34m\u001b[0m\n\u001b[0;32m     31\u001b[0m \u001b[0mevent\u001b[0m \u001b[1;33m=\u001b[0m \u001b[0mrecieve_json_response\u001b[0m\u001b[1;33m(\u001b[0m\u001b[0mws\u001b[0m\u001b[1;33m)\u001b[0m\u001b[1;33m\u001b[0m\u001b[1;33m\u001b[0m\u001b[0m\n\u001b[0;32m     32\u001b[0m \u001b[1;33m\u001b[0m\u001b[0m\n\u001b[1;32m---> 33\u001b[1;33m \u001b[0mheartbeat_interval\u001b[0m \u001b[1;33m=\u001b[0m \u001b[0mevent\u001b[0m\u001b[1;33m[\u001b[0m\u001b[1;34m'd'\u001b[0m\u001b[1;33m]\u001b[0m\u001b[1;33m[\u001b[0m\u001b[1;34m'heartbeat_interval'\u001b[0m\u001b[1;33m]\u001b[0m \u001b[1;33m/\u001b[0m \u001b[1;36m1000\u001b[0m\u001b[1;33m\u001b[0m\u001b[1;33m\u001b[0m\u001b[0m\n\u001b[0m\u001b[0;32m     34\u001b[0m \u001b[0mthreading\u001b[0m\u001b[1;33m.\u001b[0m\u001b[0m_start_new_thread\u001b[0m\u001b[1;33m(\u001b[0m\u001b[0mheartbeat\u001b[0m\u001b[1;33m,\u001b[0m\u001b[1;33m(\u001b[0m\u001b[0mheartbeat_interval\u001b[0m\u001b[1;33m,\u001b[0m\u001b[0mws\u001b[0m\u001b[1;33m)\u001b[0m\u001b[1;33m)\u001b[0m\u001b[1;33m\u001b[0m\u001b[1;33m\u001b[0m\u001b[0m\n\u001b[0;32m     35\u001b[0m \u001b[1;33m\u001b[0m\u001b[0m\n",
      "\u001b[1;31mTypeError\u001b[0m: 'NoneType' object is not subscriptable"
     ]
    }
   ],
   "source": [
    "import requests \n",
    "import time\n",
    "import json\n",
    "import websocket\n",
    "import threading\n",
    "link = \"https://discord.com/api/v9/channels/926288004417458237/messages\"\n",
    "c = 'content'\n",
    "cmd1 = 'rpg heal'\n",
    "cmd2 = 'rpg hunt'\n",
    "\n",
    "def send_json_request(ws,request):\n",
    "    ws.send(json.dumps(request))\n",
    "\n",
    "\n",
    "def recieve_json_response(ws):\n",
    "    response = ws.recv()\n",
    "    if response:\n",
    "        return json.loads(response)\n",
    "def heartbeat(interval,ws):\n",
    "    print('heart beat begin')\n",
    "    while True:\n",
    "        time.sleep(interval)\n",
    "        heartbeatJSON = {\n",
    "            \"op\":1,\n",
    "            \"d\": \"null\"\n",
    "        }\n",
    "    send_json_request(ws, heartbeatJSON)\n",
    "    print(\"Heartbeat sent\")\n",
    "ws = websocket.WebSocket()\n",
    "ws.connect('wss://gateway.discord.gg/?v=666encording=json')\n",
    "event = recieve_json_response(ws)\n",
    "\n",
    "heartbeat_interval = event['d']['heartbeat_interval'] / 1000\n",
    "threading._start_new_thread(heartbeat,(heartbeat_interval,ws))\n",
    "\n",
    "token = 'MjkwNzI2Mzk5OTUyNTUxOTM3.YXGonA.8OPLwOkJmR1F0I7ARB_OdfC1PNs' \n",
    "payload = {\n",
    "    'op': 2,\n",
    "    \"d\": {\n",
    "        \"token\" : token,\n",
    "        \"properties\": {\n",
    "            \"$os\": \"windows\",\n",
    "            \"browser\": \"chrome\",\n",
    "            \"$device\" : \"pc\"\n",
    "\n",
    "        }\n",
    "    }\n",
    "}\n",
    "send_json_request(ws,payload)\n",
    "while True:\n",
    "    event = recieve_json_response(ws)\n",
    "    try:\n",
    "        print(f\"{event['d']['author']['username']}: event['d']['content']\")\n",
    "        op_code = event('op')\n",
    "        if op_code == 11:\n",
    "            print('Hejowoewoe')\n",
    "    except:\n",
    "        pass\n",
    "\n",
    "header = {\n",
    "    'authorization': 'MjkwNzI2Mzk5OTUyNTUxOTM3.YXGonA.8OPLwOkJmR1F0I7ARB_OdfC1PNs'\n",
    "}\n",
    "\n",
    "r = requests.get(link,headers=header)\n",
    "jsonn = json.loads (r.text)\n",
    "\n",
    "# while True:\n",
    " \n",
    "#     r = requests.post(link ,data={c : cmd2}, headers=header)\n",
    "#     time.sleep(2)\n",
    "#     r = requests.post(link ,data={c : cmd1}, headers=header)\n",
    "#     time.sleep(43)\n",
    "\n",
    "\n"
   ]
  },
  {
   "cell_type": "code",
   "execution_count": 2,
   "metadata": {},
   "outputs": [],
   "source": [
    "import random\n",
    "import requests\n",
    "import time\n",
    "link = \"https://discord.com/api/v9/channels/926288004417458237/messages\"\n",
    "c = 'content'\n",
    "cmd1 = 'rpg heal'\n",
    "cmd2 = 'rpg hunt'\n",
    "\n",
    "header = {\n",
    "    'authorization': 'MjkwNzI2Mzk5OTUyNTUxOTM3.YXGonA.8OPLwOkJmR1F0I7ARB_OdfC1PNs'\n",
    "}\n",
    "\n",
    "while True:\n",
    " \n",
    "    r = requests.post(link ,data={c : cmd2}, headers=header)\n",
    "    time.sleep(2)\n",
    "    r = requests.post(link ,data={c : cmd1}, headers=header)\n",
    "    time.sleep(43)\n",
    "    break\n",
    " "
   ]
  },
  {
   "cell_type": "code",
   "execution_count": 8,
   "metadata": {},
   "outputs": [],
   "source": [
    "import random\n",
    "import requests\n",
    "import time\n",
    "import json\n",
    "import threading\n",
    "\n",
    " \n",
    "while True:\n",
    "    link = \"https://discord.com/api/v9/channels/926288004417458237/messages\"\n",
    "    c = 'content'\n",
    "    cmd1 = 'rpg heal'\n",
    "    cmd2 = 'rpg hunt'\n",
    "    header = {\n",
    "    'authorization': 'MjkwNzI2Mzk5OTUyNTUxOTM3.YXGonA.8OPLwOkJmR1F0I7ARB_OdfC1PNs'\n",
    "    }\n",
    "    \n",
    "\n",
    "    r = requests.get(link, headers=header)\n",
    "    jsonn = json.loads(r.text)\n",
    "    keker = jsonn[0]\n",
    "    con = keker.get('content')\n",
    "    if con == 'stop':\n",
    "        break\n",
    "    else:\n",
    "        r = requests.post(link ,data={c : cmd2}, headers=header)\n",
    "        time.wait(2)\n",
    "        r = requests.post(link ,data={c : cmd1}, headers=header)\n",
    "        time.wait(43) \n",
    "         \n",
    "        \n",
    "        \n",
    "    \n",
    "   \n",
    "    \n",
    " \n",
    "\n"
   ]
  },
  {
   "cell_type": "code",
   "execution_count": 17,
   "metadata": {},
   "outputs": [
    {
     "ename": "TypeError",
     "evalue": "'module' object is not callable",
     "output_type": "error",
     "traceback": [
      "\u001b[1;31m---------------------------------------------------------------------------\u001b[0m",
      "\u001b[1;31mTypeError\u001b[0m                                 Traceback (most recent call last)",
      "\u001b[1;32m<ipython-input-17-f1c1fb24aacf>\u001b[0m in \u001b[0;36m<module>\u001b[1;34m\u001b[0m\n\u001b[0;32m      6\u001b[0m    \u001b[1;34m\"do something here\"\u001b[0m\u001b[1;33m\u001b[0m\u001b[1;33m\u001b[0m\u001b[0m\n\u001b[0;32m      7\u001b[0m \u001b[1;31m#now to run f and g at a time\u001b[0m\u001b[1;33m\u001b[0m\u001b[1;33m\u001b[0m\u001b[0m\n\u001b[1;32m----> 8\u001b[1;33m \u001b[0mthreading\u001b[0m\u001b[1;33m(\u001b[0m\u001b[0mtarget\u001b[0m\u001b[1;33m=\u001b[0m\u001b[0mfunctools\u001b[0m \u001b[1;33m(\u001b[0m\u001b[0mf\u001b[0m\u001b[1;33m,\u001b[0m\u001b[0mg\u001b[0m\u001b[1;33m)\u001b[0m\u001b[1;33m)\u001b[0m\u001b[1;33m.\u001b[0m\u001b[0mstart\u001b[0m\u001b[1;33m(\u001b[0m\u001b[1;33m)\u001b[0m\u001b[1;33m\u001b[0m\u001b[1;33m\u001b[0m\u001b[0m\n\u001b[0m\u001b[0;32m      9\u001b[0m \u001b[0mg\u001b[0m\u001b[1;33m(\u001b[0m\u001b[0mx\u001b[0m\u001b[1;33m)\u001b[0m\u001b[1;33m\u001b[0m\u001b[1;33m\u001b[0m\u001b[0m\n\u001b[0;32m     10\u001b[0m \u001b[1;31m#now you can see f and g functions are simultaneously running at the same time.\u001b[0m\u001b[1;33m\u001b[0m\u001b[1;33m\u001b[0m\u001b[0m\n",
      "\u001b[1;31mTypeError\u001b[0m: 'module' object is not callable"
     ]
    }
   ],
   "source": [
    "import threading\n",
    "import functools\n",
    "def f(x): \n",
    "   \"do something here\" \n",
    "def g(x): \n",
    "   \"do something here\" \n",
    "#now to run f and g at a time \n",
    "threading(target=functools (f,g)).start() \n",
    "g(x) \n",
    "#now you can see f and g functions are simultaneously running at the same time. "
   ]
  }
 ],
 "metadata": {
  "interpreter": {
   "hash": "83abf7775aa164ac791d42e23a6d4591e352ab1950fcc5f712674885c85bb0dd"
  },
  "kernelspec": {
   "display_name": "Python 3.9.5 64-bit (windows store)",
   "language": "python",
   "name": "python3"
  },
  "language_info": {
   "codemirror_mode": {
    "name": "ipython",
    "version": 3
   },
   "file_extension": ".py",
   "mimetype": "text/x-python",
   "name": "python",
   "nbconvert_exporter": "python",
   "pygments_lexer": "ipython3",
   "version": "3.9.10"
  },
  "metadata": {
   "interpreter": {
    "hash": "83abf7775aa164ac791d42e23a6d4591e352ab1950fcc5f712674885c85bb0dd"
   }
  },
  "orig_nbformat": 2
 },
 "nbformat": 4,
 "nbformat_minor": 2
}
