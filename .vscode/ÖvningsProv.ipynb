{
 "metadata": {
  "language_info": {
   "codemirror_mode": {
    "name": "ipython",
    "version": 3
   },
   "file_extension": ".py",
   "mimetype": "text/x-python",
   "name": "python",
   "nbconvert_exporter": "python",
   "pygments_lexer": "ipython3",
   "version": "3.8.5-final"
  },
  "orig_nbformat": 2,
  "kernelspec": {
   "name": "python3",
   "display_name": "Python 3.8.5 64-bit",
   "metadata": {
    "interpreter": {
     "hash": "72d4183900bfd23e69dd1c705084bcbe25193924a70824630982af98ca429991"
    }
   }
  }
 },
 "nbformat": 4,
 "nbformat_minor": 2,
 "cells": [
  {
   "cell_type": "code",
   "execution_count": null,
   "metadata": {
    "tags": []
   },
   "outputs": [],
   "source": [
    "#Uppgift 1\n",
    "birds = 8000 #Lägger till birds som 8000. Antal birds.\n",
    "year = 0 #Antal År\n",
    "while birds > 800: #När birds är större än \"800\" lägg till 1 på year och dela birds med \"2\"\n",
    "    year += 1\n",
    "    birds /= 2\n",
    "    print(f\"år {year}: antal fåglar : {birds}\")"
   ]
  },
  {
   "cell_type": "code",
   "execution_count": null,
   "metadata": {},
   "outputs": [],
   "source": [
    "#uppgift 2\n",
    "import matplotlib.pyplot as plt #Lägger in Matplotlib som PLT\n",
    "def f(x): #skapar en funktion \n",
    "    return x**2 - 3*x + 1 # Funktionen \n",
    "\n",
    "x = [i for i in range(10)] #X och Y axlen går up till 10\n",
    "plt.plot(x,(x)) #traceBack Error\n",
    "plt.xlabel(\"x\") #ger X-axlen namnet \"X\"\n",
    "plt.ylabel(\"y\") #ger Y-axle namnet  \"Y\"\n",
    "plt.show() #Visar grafen "
   ]
  },
  {
   "source": [
    "#Uppgift 3 annan\n",
    "import math\n",
    "tal=int(input(\"skriv tal 1\"))\n",
    "tal2=int(input(\"skriv tal 2\"))\n",
    "tal3=int(input(\"skriv tal 3\"))\n",
    "antal=3\n",
    "medel=((tal+tal2+tal3)/(antal))\n",
    "print(int(medel))"
   ],
   "cell_type": "code",
   "metadata": {},
   "execution_count": null,
   "outputs": []
  },
  {
   "cell_type": "code",
   "execution_count": null,
   "metadata": {},
   "outputs": [],
   "source": [
    "#Uppgift 3\n",
    "tal=[1,3,5] #Skapar en lista\n",
    "summan=(sum(tal)) #Adderar alla tal I listan.\n",
    "antal=(len(tal)) #Antal nummer i listan\n",
    "medel=summan/antal #Funktionen för medelvärdet\n",
    "\n",
    "print(int(medel)) #Print men INT gör det till heltal"
   ]
  },
  {
   "cell_type": "code",
   "execution_count": null,
   "metadata": {},
   "outputs": [],
   "source": [
    "#Uppgift 4\n",
    "r=int(input(\"Skriv en radie\"))\n",
    "p=3.14\n",
    "def f(r):\n",
    "    return (int(4*p*r**3/3))\n",
    "\n",
    "volym = f(r)\n",
    "\n",
    "print(volym)\n",
    "\n",
    "    \n",
    "\n"
   ]
  },
  {
   "cell_type": "code",
   "execution_count": null,
   "metadata": {},
   "outputs": [],
   "source": [
    "a=int(input(\"skriv ett tal\"))  #Test med def.\n",
    "b=int(input(\"skriv andra talet\"))\n",
    "def add(a,b):\n",
    "    return a + b \n",
    "res = add(a,b)\n",
    "print(res)"
   ]
  },
  {
   "cell_type": "code",
   "execution_count": null,
   "metadata": {},
   "outputs": [],
   "source": [
    "#Uppgift 5\n",
    "text=input(\"Skriv en mening\")\n",
    "orden=text.split(\" \")\n",
    "\n",
    "print(len(orden))\n"
   ]
  },
  {
   "cell_type": "code",
   "execution_count": null,
   "metadata": {},
   "outputs": [],
   "source": [
    "#Uppgift 6\n",
    "import random as rnd\n",
    "tal=rnd.randint(1,10)\n",
    "tal1=rnd.randint(1,10)\n",
    "svar=tal*tal1\n",
    "\n",
    "talet=int(input(f\"vad blir {tal}*{tal1}\"))\n",
    "if talet == svar:\n",
    "    print(f\"Du fick rätt svar som är {svar}\")\n",
    "else:\n",
    "    print(f\"Du hade fel svaret var {svar}\")"
   ]
  },
  {
   "cell_type": "code",
   "execution_count": null,
   "metadata": {},
   "outputs": [],
   "source": [
    "#Uppgift 7\n",
    "import random as rnd\n",
    "antal=0\n",
    "for i in range (10000):\n",
    "    tärning = rnd.randint(1,6)\n",
    "    if tärning == 5:\n",
    "        antal += 1\n",
    "\n",
    "\n",
    "print(f\"Antal femmor på 100000 kast {antal} stycken\")\n"
   ]
  },
  {
   "cell_type": "code",
   "execution_count": null,
   "metadata": {},
   "outputs": [],
   "source": [
    "#Uppgift 8 Spam while not good\n",
    "tusen=0\n",
    "tvåhundra=0\n",
    "hundra=0\n",
    "femtio=0\n",
    "femkrona=0\n",
    "enkrona=0\n",
    "money=int(input(\"Put in the money i counter 100%\"))\n",
    "\n",
    "\n",
    "while money >= 1000:\n",
    "    money -= 1000\n",
    "    tusen += 1\n",
    "while money >= 200:\n",
    "    money -= 200\n",
    "    tvåhundra +=1\n",
    "while money >= 100:\n",
    "    money -= 100\n",
    "    hundra += 1\n",
    "while money >= 50:\n",
    "    money -= 50\n",
    "    femtio += 1\n",
    "while money >= 5:\n",
    "    money -= 5\n",
    "    femkrona += 1\n",
    "while money >= 1:\n",
    "    money -= 1\n",
    "    enkrona += 1\n",
    "\n",
    "print(\"Du har:\")\n",
    "print(f\"{tusen} tusenlapp,{tvåhundra} tvåhundralapp, {hundra} hundralapp, {femtio} femtiolapp, {femkrona} femkrona, {enkrona} enkronor\")"
   ]
  },
  {
   "cell_type": "code",
   "execution_count": null,
   "metadata": {},
   "outputs": [],
   "source": [
    "#Uppgift 8 men rätt \n",
    "def växla(pengar):\n",
    "    money = [1000, 500, 200, 100, 50, 10, 5, 1] #Pengarna\n",
    "    papper = [\"tusenlappar\", \"femhundralappar\", \"tvåhundralappar\",\"hundralappar\",\"femtiolappar\",\"tjugolappar\", \"tiokronor\", \"femkronor\",\"enkrona\"]\n",
    "\n",
    " for i in range(len(money)):\n",
    "    antal = pengar//kontanter[i]\n",
    "    pengar %= money[i]\n",
    "    print(f\"{antal} {papper[i]}\", end=\",\")\n",
    "\n",
    "växla(3889)\n",
    "  \n",
    "\n"
   ]
  },
  {
   "cell_type": "code",
   "execution_count": null,
   "metadata": {},
   "outputs": [],
   "source": [
    "def växla(summa):\n",
    "    kontanter = [1000, 500, 200, 100, 50, 20, 10, 5, 1] # sedlar o mynt\n",
    "    sedlar = [\"tusenlappar\", \"femhundralappar\", \"tvåhundralappar\", \"hundralappar\", \"femtiolappar\", \"tjugolappar\", \"tiokronor\", \"femkronor\", \"enkronor\"] \n",
    "    \n",
    "    for i in range(len(kontanter)): \n",
    "        antal = summa//kontanter[i] # heltalsdivision \n",
    "        summa %= kontanter[i] # ger resten vid heltalsdivision per sedel\n",
    "        print(f\"{antal} {sedlar[i]}\", end=\", \") # skriver ut antal per sedel\n",
    "\n",
    "växla(3899)"
   ]
  },
  {
   "cell_type": "code",
   "execution_count": null,
   "metadata": {},
   "outputs": [],
   "source": []
  }
 ]
}