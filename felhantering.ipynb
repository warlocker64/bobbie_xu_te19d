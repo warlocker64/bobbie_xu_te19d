{
 "metadata": {
  "language_info": {
   "codemirror_mode": {
    "name": "ipython",
    "version": 3
   },
   "file_extension": ".py",
   "mimetype": "text/x-python",
   "name": "python",
   "nbconvert_exporter": "python",
   "pygments_lexer": "ipython3",
   "version": "3.9.1-final"
  },
  "orig_nbformat": 2,
  "kernelspec": {
   "name": "python3",
   "display_name": "Python 3.9.1 64-bit",
   "metadata": {
    "interpreter": {
     "hash": "5d00308750d4803cff6f6ef4ae719a260153265e9b1ccfcf3732e725a48b6d60"
    }
   }
  }
 },
 "nbformat": 4,
 "nbformat_minor": 2,
 "cells": [
  {
   "cell_type": "code",
   "execution_count": null,
   "metadata": {},
   "outputs": [],
   "source": [
    "import math as np #Glömt T på import. #istället för Numpy \"Math\"\n",
    "\n",
    "def distance (x, y):\n",
    "    return np.sqrt(x+y) \n",
    "print(distance(0.5,0.5))# Ta bort []"
   ]
  },
  {
   "cell_type": "code",
   "execution_count": null,
   "metadata": {},
   "outputs": [],
   "source": [
    "\n",
    "def ar_fyrsiffrigt(tal):\n",
    "    Talet = tal // 1000\n",
    "    if Talet == 0 : \n",
    "        return False\n",
    "    elif Talet < 10:\n",
    "        return True\n",
    "    else:\n",
    "        return False\n",
    "\n",
    "\n",
    "# test program\n",
    "\n",
    "testtal = [100, 231 , 10000, 10001, -1000, 102313,1000 , 7000, 8000 , 9999, 1111,2222,-9999]\n",
    "\n",
    "for t in testtal:\n",
    "    if ar_fyrsiffrigt(t):\n",
    "        print(f\"{t} är fyrsiffrigt\")\n",
    "    else:\n",
    "        print(f\"{t} är inte fyrsiffrigt\")"
   ]
  },
  {
   "cell_type": "code",
   "execution_count": null,
   "metadata": {},
   "outputs": [],
   "source": [
    "engång = 50\n",
    "månad = 1450\n",
    "money = tåg(antal)\n",
    "while True: \n",
    "        try: \n",
    "            antal = int(input(\"Skriv hur många gånger vill du åka? Det kostar 50 kr per resa.\"))\n",
    "            break \n",
    "        except:\n",
    "                forsätt = input(\"try AGain?\").strip().upper()[0] \n",
    "                if forsätt == 'J': med loop.\n",
    "                    continue\n",
    "                else:\n",
    "                    break \n",
    "\n",
    "def tåg(antal):\n",
    "    return(engång*antal)\n",
    "if money > 1450:\n",
    "    print(f\" skulle köpt månads kort som kostar 1450 kr. {money}\")\n",
    "else:\n",
    "    print(f\"du spenderade {money} kr och sparade {månad-money} kr från att inte köpa månadskort.\" )"
   ]
  },
  {
   "cell_type": "code",
   "execution_count": null,
   "metadata": {},
   "outputs": [],
   "source": []
  }
 ]
}