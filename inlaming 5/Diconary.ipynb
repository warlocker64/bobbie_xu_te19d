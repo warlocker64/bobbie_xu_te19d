{
 "metadata": {
  "language_info": {
   "codemirror_mode": {
    "name": "ipython",
    "version": 3
   },
   "file_extension": ".py",
   "mimetype": "text/x-python",
   "name": "python",
   "nbconvert_exporter": "python",
   "pygments_lexer": "ipython3",
   "version": "3.9.2-final"
  },
  "orig_nbformat": 2,
  "kernelspec": {
   "name": "python3",
   "display_name": "Python 3.9.2 64-bit",
   "metadata": {
    "interpreter": {
     "hash": "5d00308750d4803cff6f6ef4ae719a260153265e9b1ccfcf3732e725a48b6d60"
    }
   }
  }
 },
 "nbformat": 4,
 "nbformat_minor": 2,
 "cells": [
  {
   "cell_type": "code",
   "execution_count": null,
   "metadata": {},
   "outputs": [],
   "source": [
    "\n",
    "kurser = {\n",
    "    \"Pro\":100,\n",
    "    \"Eng\":100,\n",
    "    \"Sva\":100,\n",
    "    \"Web\":100,\n",
    "}\n",
    "totalt = 0\n",
    "\n",
    "for key in kurser:\n",
    "    print(f\"{key}\", end =\", \")\n",
    "\n",
    "\n",
    "for key, value in kurser.items():\n",
    "    print(f\" \\n\\n{key} = {value} Poäng\")\n",
    "    \n",
    "\n",
    "for i in kurser.values():\n",
    "    totalt += i\n",
    "\n",
    "print(f\"\\nTotalt poäng = {totalt} Poäng\")\n",
    "\n",
    "\n",
    "\n",
    "\n",
    "\n",
    "\n",
    "\n"
   ]
  },
  {
   "source": [
    "import random as rnd\n",
    "\n",
    "tärning = {\n",
    "    \"1\":0,\n",
    "    \"2\":0,\n",
    "    \"3\":0,\n",
    "    \"4\":0,\n",
    "    \"5\":0,\n",
    "    \"6\":0,\n",
    "}\n",
    "\n",
    "\n",
    "for i in range(10000):\n",
    "    kast = rnd.randint(1,6)\n",
    "    if kast == 1:\n",
    "        tärning[\"1\"] += 1\n",
    "    elif kast == 2:\n",
    "        tärning[\"2\"] += 1\n",
    "    elif kast == 3:\n",
    "        tärning[\"3\"] += 1\n",
    "    elif kast == 4:\n",
    "        tärning[\"4\"] += 1\n",
    "    elif kast == 5:\n",
    "        tärning[\"5\"] += 1\n",
    "    elif kast == 6:\n",
    "        tärning[\"6\"] += 1\n",
    "for tärn in tärning.items():\n",
    "    print(f\"{tärn}\")\n",
    "\n",
    "\n",
    "\n",
    "\n",
    "    \n"
   ],
   "cell_type": "code",
   "metadata": {
    "tags": []
   },
   "execution_count": null,
   "outputs": []
  },
  {
   "cell_type": "code",
   "execution_count": 69,
   "metadata": {
    "tags": []
   },
   "outputs": [
    {
     "output_type": "stream",
     "name": "stdout",
     "text": [
      " Typ: Eld, index: 4\n Typ: Gift, index: 23\n"
     ]
    }
   ],
   "source": [
    "\n",
    "\n",
    "dex = {}\n",
    "file = open(\"pokemonlista.txt\", \"r\")\n",
    "for poke in file:\n",
    "    key = poke.split()\n",
    "    dex[key[1]] = f\" Typ: {key[2]}, index: {key[0]}\"\n",
    "\n",
    "print(dex[\"Charmander\"])\n",
    "print(dex[\"Ekans\"])\n",
    "\n",
    "\n",
    "\n",
    "\n",
    "\n",
    "\n",
    "    \n",
    "\n",
    "    \n",
    "    "
   ]
  },
  {
   "cell_type": "code",
   "execution_count": null,
   "metadata": {},
   "outputs": [],
   "source": []
  }
 ]
}