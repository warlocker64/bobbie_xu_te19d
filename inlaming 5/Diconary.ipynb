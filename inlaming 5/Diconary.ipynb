{
 "metadata": {
  "language_info": {
   "codemirror_mode": {
    "name": "ipython",
    "version": 3
   },
   "file_extension": ".py",
   "mimetype": "text/x-python",
   "name": "python",
   "nbconvert_exporter": "python",
   "pygments_lexer": "ipython3",
   "version": "3.9.2-final"
  },
  "orig_nbformat": 2,
  "kernelspec": {
   "name": "python3",
   "display_name": "Python 3.9.2 64-bit",
   "metadata": {
    "interpreter": {
     "hash": "5d00308750d4803cff6f6ef4ae719a260153265e9b1ccfcf3732e725a48b6d60"
    }
   }
  }
 },
 "nbformat": 4,
 "nbformat_minor": 2,
 "cells": [
  {
   "cell_type": "code",
   "execution_count": 27,
   "metadata": {},
   "outputs": [
    {
     "output_type": "stream",
     "name": "stdout",
     "text": [
      "Pro, Eng, Sva, Web,  \n\nPro = 100 Poäng\n \n\nEng = 100 Poäng\n \n\nSva = 100 Poäng\n \n\nWeb = 100 Poäng\n\nTotalt poäng = 400 Poäng\n"
     ]
    }
   ],
   "source": [
    "\n",
    "kurser = {\n",
    "    \"Pro\":100,\n",
    "    \"Eng\":100,\n",
    "    \"Sva\":100,\n",
    "    \"Web\":100,\n",
    "}\n",
    "totalt = 0\n",
    "\n",
    "for key in kurser:\n",
    "    print(f\"{key}\", end =\", \")\n",
    "\n",
    "\n",
    "for key, value in kurser.items():\n",
    "    print(f\" \\n\\n{key} = {value} Poäng\")\n",
    "    \n",
    "\n",
    "for i in kurser.values():\n",
    "    totalt += i\n",
    "\n",
    "print(f\"\\nTotalt poäng = {totalt} Poäng\")\n",
    "\n",
    "\n",
    "\n",
    "\n",
    "\n",
    "\n",
    "\n"
   ]
  },
  {
   "cell_type": "code",
   "execution_count": 341,
   "metadata": {
    "tags": []
   },
   "outputs": [
    {
     "output_type": "stream",
     "name": "stdout",
     "text": [
      "('1', 1652)\n('2', 1655)\n('3', 1695)\n('4', 1668)\n('5', 1604)\n('6', 1726)\n"
     ]
    }
   ],
   "source": [
    "import random as rnd\n",
    "\n",
    "tärning = {\n",
    "    \"1\":0,\n",
    "    \"2\":0,\n",
    "    \"3\":0,\n",
    "    \"4\":0,\n",
    "    \"5\":0,\n",
    "    \"6\":0,\n",
    "}\n",
    "\n",
    "for i in range(10000):\n",
    "    kast = rnd.randint(1,6)\n",
    "    if kast == 1:\n",
    "        tärning[\"1\"] += 1\n",
    "    elif kast == 2:\n",
    "        tärning[\"2\"] += 1\n",
    "    elif kast == 3:\n",
    "        tärning[\"3\"] += 1\n",
    "    elif kast == 4:\n",
    "        tärning[\"4\"] += 1\n",
    "    elif kast == 5:\n",
    "        tärning[\"5\"] += 1\n",
    "    elif kast == 6:\n",
    "        tärning[\"6\"] += 1\n",
    "for tärn in tärning.items():\n",
    "    print(f\"{tärn}\")\n",
    "\n",
    "\n",
    "\n",
    "\n",
    "    \n"
   ]
  },
  {
   "cell_type": "code",
   "execution_count": null,
   "metadata": {},
   "outputs": [],
   "source": []
  }
 ]
}