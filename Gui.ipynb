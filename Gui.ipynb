{
 "metadata": {
  "language_info": {
   "codemirror_mode": {
    "name": "ipython",
    "version": 3
   },
   "file_extension": ".py",
   "mimetype": "text/x-python",
   "name": "python",
   "nbconvert_exporter": "python",
   "pygments_lexer": "ipython3",
   "version": "3.9.4"
  },
  "orig_nbformat": 2,
  "kernelspec": {
   "name": "python394jvsc74a57bd05d00308750d4803cff6f6ef4ae719a260153265e9b1ccfcf3732e725a48b6d60",
   "display_name": "Python 3.9.4 64-bit"
  },
  "metadata": {
   "interpreter": {
    "hash": "5d00308750d4803cff6f6ef4ae719a260153265e9b1ccfcf3732e725a48b6d60"
   }
  }
 },
 "nbformat": 4,
 "nbformat_minor": 2,
 "cells": [
  {
   "cell_type": "code",
   "execution_count": null,
   "metadata": {},
   "outputs": [],
   "source": [
    "saldot = 0\n",
    "lager=[]\n",
    "def Money(): #funktioner som gjordes när jag gjorde \"moment 5\"\n",
    "    line = 0 \n",
    "    sum = 0 \n",
    "    head = (\"\\n All transaktioner:\" \n",
    "    f\"\\n Nr Händelse saldot\")\n",
    "    print(head)\n",
    "    for t in lager:\n",
    "        line += 1\n",
    "        sum += t\n",
    "        print(f\"{line}. Förändring: {t} kr Antal pengar: {sum} kr\\n\")\n",
    "\n",
    "\n",
    "import PySimpleGUI as sg #Lägger PysimpleGUi som sg\n",
    "\n",
    "sg.theme('DarkBlack') # Väljer en färg för Gui\n",
    "layout = [  [sg.Text('This is a Bank')], #Skapar en text\n",
    "            [sg.Text('Please choose an action.')], # Mer text\n",
    "            [sg.Button('Saldot'), sg.Button('Insätt'), sg.Button('Draut'),sg.Button('Avsluta')] ] #Skapar buttons för mina funktioner. En för att visa saldot och förändringen. En för att sätta in pengar och en för att dra ut pengar. Sedan en för att avsluta programmet.\n",
    "\n",
    "\n",
    "window = sg.Window('Bank', layout) #Skapar en window\n",
    "while True: # en Loop som håller våra funktioner.\n",
    "    event, values = window.read()\n",
    "    if event == \"Saldot\": # när knappen Saldot trycks används den av funktionen Money()\n",
    "        Money()\n",
    "    elif event == \"Insätt\": # när insätt används så används funktionen för att lägga in pengar\n",
    "        insätting = int(input(\"Hur mycket pengar vill du sätta in?\"))\n",
    "        if insätting > 0:\n",
    "            saldot += insätting\n",
    "            lager.append(+insätting)\n",
    "        else:\n",
    "            print(\"Mm nono\")\n",
    "    elif event == \"Draut\": # för att dra ut pengar\n",
    "        draut=int(input(\"Hur mycekt vill du dra ut?\"))\n",
    "        if draut <= saldot and draut >= 0:\n",
    "            saldot -= draut\n",
    "            lager.append(-draut)\n",
    "        elif draut < 0:\n",
    "                print(\"utdragget behöver vara större än noll.\")\n",
    "        else:\n",
    "            print(\"Negativt tal mm nono\")\n",
    "\n",
    "    elif event == sg.WIN_CLOSED or event == \"Avsluta\": # för att avsluta programmet. Med Knappen \"Avsluta\" Eller när Windown stängs ner. Så breakar loopen.\n",
    "        break# Breakar Loopen\n",
    "\n",
    "window.close()"
   ]
  },
  {
   "cell_type": "code",
   "execution_count": null,
   "metadata": {},
   "outputs": [],
   "source": []
  }
 ]
}