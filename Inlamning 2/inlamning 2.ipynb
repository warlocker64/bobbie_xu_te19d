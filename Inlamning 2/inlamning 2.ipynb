{
 "metadata": {
  "language_info": {
   "codemirror_mode": {
    "name": "ipython",
    "version": 3
   },
   "file_extension": ".py",
   "mimetype": "text/x-python",
   "name": "python",
   "nbconvert_exporter": "python",
   "pygments_lexer": "ipython3",
   "version": "3.8.3-final"
  },
  "orig_nbformat": 2,
  "kernelspec": {
   "name": "python_defaultSpec_1600678149593",
   "display_name": "Python 3.8.3 64-bit ('base': conda)"
  }
 },
 "nbformat": 4,
 "nbformat_minor": 2,
 "cells": [
  {
   "cell_type": "code",
   "execution_count": 30,
   "metadata": {
    "tags": []
   },
   "outputs": [
    {
     "output_type": "stream",
     "name": "stdout",
     "text": "5 talet är positivt \n"
    }
   ],
   "source": [
    "c=int(input(\"Lägg in nummber: \"))\n",
    "\n",
    "if c > 0 :\n",
    "   print(f\"{c} talet är positivt \")\n",
    "\n",
    "elif c < 0 :\n",
    "    print(f\"{c} talet är negativt\")\n",
    "\n",
    "else :\n",
    "    print(f\"talet är {c}\")"
   ]
  },
  {
   "cell_type": "code",
   "execution_count": 46,
   "metadata": {
    "tags": []
   },
   "outputs": [
    {
     "output_type": "stream",
     "name": "stdout",
     "text": "talet 11 är udda\n talet 11 är också delbart med 5\n"
    }
   ],
   "source": [
    "t=float(input(\"lägg in nummber: \"))\n",
    "\n",
    "if t % 2 == 0:\n",
    "    print(f\" talet {t} är jämnt\")\n",
    "else :\n",
    "    print(f\" talet {t} är udda\")\n",
    "if t % 5 == 0 :\n",
    "    print(f\" talet {t} är också delbart med 5\")\n"
   ]
  },
  {
   "cell_type": "code",
   "execution_count": 60,
   "metadata": {
    "tags": []
   },
   "outputs": [
    {
     "output_type": "stream",
     "name": "stdout",
     "text": "49.0\n"
    }
   ],
   "source": [
    "y=float(input(\"Put nummber big or small \"))\n",
    "r=float(input(\"Put nummber diffrent yes? not same ok=? \"))\n",
    "\n",
    "if y>r :\n",
    "    print(f\"{y}\")\n",
    "elif r>y :\n",
    "    print(f\"{r}\")\n",
    "else :\n",
    "    print(\"stupid they are the same\")\n",
    "\n",
    "\n",
    "\n",
    "\n",
    "\n",
    "\n"
   ]
  },
  {
   "cell_type": "code",
   "execution_count": 97,
   "metadata": {
    "tags": []
   },
   "outputs": [
    {
     "output_type": "stream",
     "name": "stdout",
     "text": "190.0 är konvex vinkel\n"
    }
   ],
   "source": [
    "e= float(input(\"Skriv en vinkel\"))\n",
    "\n",
    "if e == 90:\n",
    "    print(f\"trianglen med {e} grader är en rät vinkling triangel \")\n",
    "\n",
    "elif e == 180 :\n",
    "    print(f\"{e} är rak vinkel\")\n",
    "elif e > 0 and e < 90 :\n",
    "    print(f\"{e} är spetsig vinkel\")\n",
    "    \n",
    "elif e == 360:\n",
    "    print(f\"{e} Är en hel vinkel\")\n",
    "\n",
    "elif e > 0 and e > 180 :\n",
    "    print(f\"{e} är konvex vinkel\")\n",
    "\n",
    "elif e > 0 and e < 180 :\n",
    "    print(f\"{e} är trubbig vinkel\")\n",
    "\n",
    "\n",
    "\n",
    "\n"
   ]
  },
  {
   "cell_type": "code",
   "execution_count": null,
   "metadata": {},
   "outputs": [],
   "source": []
  }
 ]
}