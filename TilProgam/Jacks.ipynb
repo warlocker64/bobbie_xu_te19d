{
 "metadata": {
  "language_info": {
   "codemirror_mode": {
    "name": "ipython",
    "version": 3
   },
   "file_extension": ".py",
   "mimetype": "text/x-python",
   "name": "python",
   "nbconvert_exporter": "python",
   "pygments_lexer": "ipython3",
   "version": "3.9.2-final"
  },
  "orig_nbformat": 2,
  "kernelspec": {
   "name": "python3",
   "display_name": "Python 3.9.2 64-bit",
   "metadata": {
    "interpreter": {
     "hash": "5d00308750d4803cff6f6ef4ae719a260153265e9b1ccfcf3732e725a48b6d60"
    }
   }
  }
 },
 "nbformat": 4,
 "nbformat_minor": 2,
 "cells": [
  {
   "cell_type": "code",
   "execution_count": 2,
   "metadata": {},
   "outputs": [
    {
     "output_type": "stream",
     "name": "stdout",
     "text": [
      "\n All transaktioner:\n Nr Händelse saldot\n1. Förändring: 2000 kr Antal pengar: 2000 kr\n\n"
     ]
    },
    {
     "output_type": "error",
     "ename": "ValueError",
     "evalue": "invalid literal for int() with base 10: ''",
     "traceback": [
      "\u001b[1;31m---------------------------------------------------------------------------\u001b[0m",
      "\u001b[1;31mValueError\u001b[0m                                Traceback (most recent call last)",
      "\u001b[1;32m<ipython-input-2-233c5d12db06>\u001b[0m in \u001b[0;36m<module>\u001b[1;34m\u001b[0m\n\u001b[0;32m     11\u001b[0m             \u001b[1;34m\"\\n0. Avsluta programmet \"\u001b[0m\u001b[1;33m\u001b[0m\u001b[1;33m\u001b[0m\u001b[0m\n\u001b[0;32m     12\u001b[0m                 \" Gör ditt val: \")\n\u001b[1;32m---> 13\u001b[1;33m     \u001b[0mval\u001b[0m \u001b[1;33m=\u001b[0m \u001b[0mint\u001b[0m\u001b[1;33m(\u001b[0m\u001b[0minput\u001b[0m\u001b[1;33m(\u001b[0m\u001b[0mmeny\u001b[0m\u001b[1;33m)\u001b[0m\u001b[1;33m)\u001b[0m\u001b[1;33m\u001b[0m\u001b[1;33m\u001b[0m\u001b[0m\n\u001b[0m\u001b[0;32m     14\u001b[0m     \u001b[1;32mif\u001b[0m \u001b[0mval\u001b[0m \u001b[1;33m==\u001b[0m \u001b[1;36m0\u001b[0m\u001b[1;33m:\u001b[0m\u001b[1;33m\u001b[0m\u001b[1;33m\u001b[0m\u001b[0m\n\u001b[0;32m     15\u001b[0m         \u001b[1;32mbreak\u001b[0m\u001b[1;33m\u001b[0m\u001b[1;33m\u001b[0m\u001b[0m\n",
      "\u001b[1;31mValueError\u001b[0m: invalid literal for int() with base 10: ''"
     ]
    }
   ],
   "source": [
    "saldot = 0\n",
    "lager = []\n",
    "while True:\n",
    "    meny =(\"\\n-------------------\"\n",
    "            \"\\nLilla banken\"\n",
    "            \"\\nMeny\"\n",
    "            \"\\n-------------------\"\n",
    "            f\"\\n1. Visa Saldo / Ditt Saldo: {sum} kr \"\n",
    "            \"\\n2. Gör en insätting \"\n",
    "            \"\\n3. gör ett uttag \"\n",
    "            \"\\n0. Avsluta programmet \"\n",
    "                \" Gör ditt val: \")\n",
    "    val = int(input(meny))\n",
    "    if val == 0:\n",
    "        break\n",
    "    elif val == 1:\n",
    "        line = 0 \n",
    "        sum = 0 \n",
    "        head = (\"\\n All transaktioner:\" \n",
    "        f\"\\n Nr Händelse saldot\")\n",
    "        print(head)\n",
    "        for t in lager:\n",
    "            line += 1\n",
    "            sum += t\n",
    "            print(f\"{line}. Förändring: {t} kr Antal pengar: {sum} kr\\n\")\n",
    "   \n",
    "    elif val == 2:\n",
    "        insätting = int(input(\"Hur mycket pengar vill du sätta in?\"))\n",
    "        if insätting > 0:\n",
    "            saldot += insätting\n",
    "            lager.append(+insätting)\n",
    "        else:\n",
    "            print(\"Mm nono\")\n",
    "    elif val == 3:\n",
    "        draut=int(input(\"Hur mycekt vill du dra ut?\"))\n",
    "        if draut <= saldot and draut >= 0:\n",
    "            saldot -= draut\n",
    "            lager.append(-draut)\n",
    "        elif draut < 0:\n",
    "                print(\"utdragget behöver vara större än noll.\")\n",
    "        else:\n",
    "            print(\"Negativt tal mm nono\")\n",
    "    else:\n",
    "        print(\"Adios Programmet avslutas Går inte.\")\n",
    "    with open(\"Transaktioner.txt\", \"w\") as file:\n",
    "        sum = 0\n",
    "        for t in lager:\n",
    "            sum += t\n",
    "            file.write(f\"The change: {t} kr Antal pengar: {sum} kr\\n\")\n",
    "\n",
    "print(\"Tack detta är allt\")\n",
    "\n",
    "def balance():\n",
    "    for t in lager:\n",
    "        balance += t \n",
    "    return balance\n",
    "\n",
    "def validate_int(output, error_mess):\n",
    "     while True:\n",
    "        try:\n",
    "            value = int(input(output))\n",
    "            break\n",
    "        except:\n",
    "            print(error_mess)        \n",
    "        return value\n",
    "\n",
    "def print_lager():\n",
    "    line = 0\n",
    "    balance = 0\n",
    "    output = (\"\\nAll transaktioner:\"\n",
    "    f\"\\n{Nr}{Händelse}{Saldow}\")\n",
    "\n",
    "    for t in lager:\n",
    "        line += 1\n",
    "        balance += t\n",
    "        output += (f\"\\n{line}. {t} kr{balance} kr\")\n",
    "\n",
    "        return output\n",
    "\n",
    "def check_file_exists():\n",
    "    try:\n",
    "        with open(filename, \"x\"):\n",
    "            print(\"Filen skapades\")\n",
    "        with open(filename,\"a\") as f:\n",
    "            f.write(f\"{1000}\\n\")\n",
    "    except:\n",
    "        return\n",
    "def read_file():\n",
    "\n",
    "    check_file_exists()\n",
    "\n",
    "    with open(filename) as f:\n",
    "        for rad in f:\n",
    "            if len(rad) > 0:\n",
    "                add_lager(rad)\n",
    "\n",
    "def add_lager(lager, toFile = False):\n",
    "\n",
    "    lager.append(lager)\n",
    "    if toFile:\n",
    "        write_lager_to_file(lager)\n",
    "def write_lager_to_file(lager):\n",
    "    with open(filename, \"a\") as f:\n",
    "        f.write(f\"{lager}\")\n",
    "\n"
   ]
  },
  {
   "cell_type": "code",
   "execution_count": null,
   "metadata": {},
   "outputs": [],
   "source": []
  }
 ]
}