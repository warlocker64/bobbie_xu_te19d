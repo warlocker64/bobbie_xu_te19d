{
 "metadata": {
  "language_info": {
   "codemirror_mode": {
    "name": "ipython",
    "version": 3
   },
   "file_extension": ".py",
   "mimetype": "text/x-python",
   "name": "python",
   "nbconvert_exporter": "python",
   "pygments_lexer": "ipython3",
   "version": "3.9.1-final"
  },
  "orig_nbformat": 2,
  "kernelspec": {
   "name": "python3",
   "display_name": "Python 3.9.1 64-bit",
   "metadata": {
    "interpreter": {
     "hash": "5d00308750d4803cff6f6ef4ae719a260153265e9b1ccfcf3732e725a48b6d60"
    }
   }
  }
 },
 "nbformat": 4,
 "nbformat_minor": 2,
 "cells": [
  {
   "cell_type": "code",
   "execution_count": null,
   "metadata": {},
   "outputs": [],
   "source": [
    "\n",
    "summa=1\n",
    "for i in range(10,1,-2):\n",
    "    print(i)\n",
    "    summa *= i\n",
    "print(\"Multi alla tal blir\",summa)"
   ]
  },
  {
   "cell_type": "code",
   "execution_count": null,
   "metadata": {
    "tags": []
   },
   "outputs": [],
   "source": [
    "tal =float(input(\"välj start tal\"))\n",
    "start= 1\n",
    "slut=int(input(\"år\"))\n",
    "ränta=float(input(\"välj ränta\"))\n",
    "for i in range(start,slut+1):\n",
    "    tal*=ränta\n",
    "    if i % 1==0:\n",
    "        print(\"år:{}:summan {}\".format(i,tal))\n",
    "else:\n",
    "    print(\"totalasumma:{}\".format(tal))\n",
    "\n",
    "\n",
    "\n"
   ]
  },
  {
   "cell_type": "code",
   "execution_count": null,
   "metadata": {},
   "outputs": [],
   "source": [
    "#Moment 4 Uppgift A\n",
    "import math\n",
    "sid=int(input(\"Ge Sidan\"))\n",
    "bas=int(input(\"Ge Bas\"))\n",
    "area=sid*bas\n",
    "\n",
    "if area == 0:\n",
    "    print(\"stop printing 0 dumb shit\")\n",
    "elif sid < 0:\n",
    "    print(\"Sluta skriva ett tal under 0\")\n",
    "\n",
    "elif bas < 0:\n",
    "    print(\"Sluta skriva ett tal under 0\")\n",
    "\n",
    "elif sid == bas:\n",
    "    print(\"Detta är en kvadrat\")\n",
    "    print(f\"arean för detta är {area}\")\n",
    "else:\n",
    "    print(\"Detta är en rektangel\")\n",
    "    print(f\"Arean för denna rektangel är {area}\")\n",
    "\n",
    "\n",
    "\n"
   ]
  },
  {
   "cell_type": "code",
   "execution_count": null,
   "metadata": {},
   "outputs": [],
   "source": [
    "#Moment 4 Uppgift B\n",
    "bas = []\n",
    "höjd = []\n",
    "area = []\n",
    "while True :\n",
    "     bas.append(int(input(\"Skriv En bas\")))\n",
    "     höjd.append(int(input(\"Skriv En höjd\")))\n",
    "     \n",
    "\n",
    "\n",
    "     svar = input(\"Vill du forsätta beräkna arean av en rektangle J/N \").strip().upper()[0]\n",
    "     if svar == 'N':\n",
    "          break\n",
    "\n",
    "print(\"Alla tal du gav oss är:\", end=\" \")\n",
    "\n",
    "for yes1, yes2 in zip(bas,höjd):\n",
    "     area.append(yes1 * yes2)\n",
    "     \n",
    "     print(f\"Basen och Höjden {bas , höjd},\", end=\" \")\n",
    "print(f\"Arean på rektanglarna är: {area}\")"
   ]
  },
  {
   "cell_type": "code",
   "execution_count": null,
   "metadata": {},
   "outputs": [],
   "source": [
    "#moment 4 Uppgift C\n",
    "bas = []\n",
    "sida = []\n",
    "area = []\n",
    "höjden = 0\n",
    "while not int(höjden) in range (1,11):\n",
    "    höjden=(int(input(\"Ge mig start talet på höjden.\")))\n",
    "    print(\"Dessa nummer är inte i mellan 1 till 10. Du kan ej välja mindre än 0 eller högre än 10. Danke.\")\n",
    "while True :\n",
    "    while True:\n",
    "        try:\n",
    "            bas.append(int(input(\"Skriv En bas\")))\n",
    "            sida.append(int(input(\"Skriv En sida\")))\n",
    "            break\n",
    "        except:\n",
    "            print(\"Detta talet man kan inte\")\n",
    "    svar = input(\"Vill du forsätta beräkna arean av en rektangle J/N \").strip().upper()[0]\n",
    "    if svar == 'N':\n",
    "        break\n",
    "print(\"Alla tal du gav oss är:\")\n",
    "for yes1, yes2 in zip(bas,sida):\n",
    "     area.append(yes1 * yes2)\n",
    "     höjden += 1\n",
    "     \n",
    "     print(f\"Basen och Höjden {bas , sida}\")\n",
    "print(f\"Arean på rektanglarna är:{area} höjden på rektanglen är: {höjden-1}\") # OutSmarted."
   ]
  },
  {
   "cell_type": "code",
   "execution_count": null,
   "metadata": {},
   "outputs": [],
   "source": [
    "#moment 4 Uppgift D\n",
    "bas = []\n",
    "sida = []\n",
    "area = []\n",
    "höjden = 1\n",
    "while True :\n",
    "    while True:\n",
    "        try:\n",
    "            bas.append(int(input(\"Skriv En bas\")))\n",
    "            sida.append(int(input(\"Skriv En sida\")))\n",
    "            break\n",
    "        except:\n",
    "            print(\"Detta talet man kan inte\")\n",
    "    svar = input(\"Vill du forsätta beräkna arean av en rektangle J/N \").strip().upper()[0]\n",
    "    if svar == 'N':\n",
    "        break\n",
    "print(\"Alla tal du gav oss är:\")\n",
    "for yes1, yes2 in zip(bas,sida):\n",
    "     area.append(yes1 * yes2)\n",
    "     höjden += 1\n",
    "     \n",
    "     print(f\"Basen och Höjden {bas , sida}\")\n",
    "print(f\"Arean på rektanglarna är:{area} höjden antal rätblock: {höjden-1}\") # OutSmarted."
   ]
  },
  {
   "cell_type": "code",
   "execution_count": null,
   "metadata": {},
   "outputs": [],
   "source": [
    "värde(5,5)\n",
    "def värde(s1, s2):\n",
    "    omkrets = int(2*(s1+s2))\n",
    "    area = int(s1*s2)\n",
    "    print(f\"Omkretsen av {s1} och {s2} är {omkrets}\")\n",
    "    print(f\"Arean av {s1} och {s2} är {area}\")   \n",
    "    \n"
   ]
  },
  {
   "cell_type": "code",
   "execution_count": null,
   "metadata": {},
   "outputs": [],
   "source": []
  }
 ]
}