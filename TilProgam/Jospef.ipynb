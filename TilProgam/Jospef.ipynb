{
 "metadata": {
  "language_info": {
   "codemirror_mode": {
    "name": "ipython",
    "version": 3
   },
   "file_extension": ".py",
   "mimetype": "text/x-python",
   "name": "python",
   "nbconvert_exporter": "python",
   "pygments_lexer": "ipython3",
   "version": "3.9.1-final"
  },
  "orig_nbformat": 2,
  "kernelspec": {
   "name": "python3",
   "display_name": "Python 3.9.1 64-bit",
   "metadata": {
    "interpreter": {
     "hash": "5d00308750d4803cff6f6ef4ae719a260153265e9b1ccfcf3732e725a48b6d60"
    }
   }
  }
 },
 "nbformat": 4,
 "nbformat_minor": 2,
 "cells": [
  {
   "cell_type": "code",
   "execution_count": null,
   "metadata": {},
   "outputs": [],
   "source": [
    "\n",
    "summa=1\n",
    "for i in range(10,1,-2):\n",
    "    print(i)\n",
    "    summa *= i\n",
    "print(\"Multi alla tal blir\",summa)"
   ]
  },
  {
   "cell_type": "code",
   "execution_count": null,
   "metadata": {
    "tags": []
   },
   "outputs": [],
   "source": [
    "tal =float(input(\"välj start tal\"))\n",
    "start= 1\n",
    "slut=int(input(\"år\"))\n",
    "ränta=float(input(\"välj ränta\"))\n",
    "for i in range(start,slut+1):\n",
    "    tal*=ränta\n",
    "    if i % 1==0:\n",
    "        print(\"år:{}:summan {}\".format(i,tal))\n",
    "else:\n",
    "    print(\"totalasumma:{}\".format(tal))\n",
    "\n",
    "\n",
    "\n"
   ]
  },
  {
   "cell_type": "code",
   "execution_count": null,
   "metadata": {},
   "outputs": [],
   "source": [
    "#Moment 4 Uppgift A\n",
    "import math\n",
    "sid=int(input(\"Ge Sidan\")) #Gör så användaren får skriva en sida\n",
    "bas=int(input(\"Ge Bas\"))    #Gör så användaren får skriva en bas\n",
    "area=sid*bas #Tar båda talen och multiplicerar dem\n",
    "\n",
    "if area == 0:\n",
    "    print(\"stop printing 0 dumb shit\") #Om arean är 0 print this\n",
    "elif sid < 0:\n",
    "    print(\"Sluta skriva ett tal under 0\") #om sida är mindre än 0 print..\n",
    "\n",
    "elif bas < 0:\n",
    "    print(\"Sluta skriva ett tal under 0\") # mindre än 0 print.\n",
    "\n",
    "elif sid == bas:\n",
    "    print(\"Detta är en kvadrat\")#om sida och bas har samma värde print this..\n",
    "    print(f\"arean för detta är {area}\")\n",
    "else:\n",
    "    print(\"Detta är en rektangel\") #allt annat print...\n",
    "    print(f\"Arean för denna rektangel är {area}\")\n",
    "\n",
    "\n",
    "\n"
   ]
  },
  {
   "cell_type": "code",
   "execution_count": null,
   "metadata": {},
   "outputs": [],
   "source": [
    "#Moment 4 Uppgift B\n",
    "bas = [] #skapar lista med namnet Bas\n",
    "höjd = [] #skapar lista med namnet höjd\n",
    "area = [] #skapar lista med namnet area\n",
    "while True : #Skapar en while loop\n",
    "     bas.append(int(input(\"Skriv En bas\"))) #alla tal som de matar in går till bas listan\n",
    "     höjd.append(int(input(\"Skriv En höjd\"))) #alla tal som de matar in går till höjd listan\n",
    "     \n",
    "\n",
    "\n",
    "     svar = input(\"Vill du forsätta beräkna arean av en rektangle J/N \").strip().upper()[0] #skapar en break input. tar även bort mellanslag och gör så det är alltid stor bokstav.\n",
    "     if svar == 'N': #om svaret är N break the loop.\n",
    "          break\n",
    "\n",
    "print(\"Alla tal du gav oss är:\", end=\" \")\n",
    "\n",
    "for yes1, yes2 in zip(bas,höjd): #skapar en for sats och runnar det beronde på hur många gånger while loopen har gått.\n",
    "     area.append(yes1 * yes2) #tar det bas och höjd multiplecerar och sedan lägger det i Arean listan.\n",
    "     \n",
    "     print(f\"Basen och Höjden {bas , höjd},\", end=\" \")\n",
    "print(f\"Arean på rektanglarna är: {area}\")"
   ]
  },
  {
   "cell_type": "code",
   "execution_count": null,
   "metadata": {},
   "outputs": [],
   "source": [
    "#moment 4 Uppgift C\n",
    "bas = []\n",
    "sida = []\n",
    "area = []\n",
    "höjden = 0 \n",
    "while not int(höjden) in range (1,11): #gör så att användaren inte kan ta ett tal mindre eller lika med 0. Användaren kan heller inte välja över 10. Den loopar tills användaren väljer mellan 1-10.\n",
    "    höjden=(int(input(\"Ge mig start talet på höjden.\")))\n",
    "    print(\"Dessa nummer är inte i mellan 1 till 10. Du kan ej välja mindre än 0 eller högre än 10. Danke.\")\n",
    "while True :\n",
    "    while True:\n",
    "        try:\n",
    "            bas.append(int(input(\"Skriv En bas\")))\n",
    "            sida.append(int(input(\"Skriv En sida\")))\n",
    "            break\n",
    "        except: #Om du skriver ett deci tal eller något annat. så print...\n",
    "            print(\"Detta talet man kan inte\")\n",
    "    svar = input(\"Vill du forsätta beräkna arean av en rektangle J/N \").strip().upper()[0]\n",
    "    if svar == 'N':\n",
    "        break\n",
    "print(\"Alla tal du gav oss är:\")\n",
    "for yes1, yes2 in zip(bas,sida):\n",
    "     area.append(yes1 * yes2)\n",
    "     höjden += 1 #lägger till  + 1 på höjden beronde på hur många gånger the code has run.\n",
    "     \n",
    "     print(f\"Basen och Höjden {bas , sida}\")\n",
    "print(f\"Arean på rektanglarna är:{area} höjden på rektanglen är: {höjden-1}\") # OutSmarted."
   ]
  },
  {
   "cell_type": "code",
   "execution_count": null,
   "metadata": {},
   "outputs": [],
   "source": [
    "#moment 4 Uppgift D\n",
    "bas = []\n",
    "sida = []\n",
    "area = []\n",
    "höjden = 1\n",
    "while True :\n",
    "    while True:\n",
    "        try:\n",
    "            bas.append(int(input(\"Skriv En bas\")))\n",
    "            sida.append(int(input(\"Skriv En sida\")))\n",
    "            break\n",
    "        except:\n",
    "            print(\"Detta talet man kan inte\")\n",
    "    svar = input(\"Vill du forsätta beräkna arean av en rektangle J/N \").strip().upper()[0]\n",
    "    if svar == 'N':\n",
    "        break\n",
    "print(\"Alla tal du gav oss är:\")\n",
    "for yes1, yes2 in zip(bas,sida):\n",
    "     area.append(yes1 * yes2)\n",
    "     höjden += 1\n",
    "     \n",
    "     print(f\"Basen och Höjden {bas , sida}\")\n",
    "print(f\"Arean på rektanglarna är:{area} höjden antal rätblock: {höjden-1}\") # OutSmarted."
   ]
  },
  {
   "cell_type": "code",
   "execution_count": null,
   "metadata": {},
   "outputs": [],
   "source": [
    "värde(5,5)\n",
    "def värde(s1, s2): #simple code\n",
    "    omkrets = int(2*(s1+s2))\n",
    "    area = int(s1*s2)\n",
    "    print(f\"Omkretsen av {s1} och {s2} är {omkrets}\")\n",
    "    print(f\"Arean av {s1} och {s2} är {area}\")   \n",
    "    \n"
   ]
  },
  {
   "cell_type": "code",
   "execution_count": null,
   "metadata": {},
   "outputs": [],
   "source": []
  }
 ]
}