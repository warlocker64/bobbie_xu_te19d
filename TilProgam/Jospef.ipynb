{
 "metadata": {
  "language_info": {
   "codemirror_mode": {
    "name": "ipython",
    "version": 3
   },
   "file_extension": ".py",
   "mimetype": "text/x-python",
   "name": "python",
   "nbconvert_exporter": "python",
   "pygments_lexer": "ipython3",
   "version": "3.8.3-final"
  },
  "orig_nbformat": 2,
  "kernelspec": {
   "name": "python3",
   "display_name": "Python 3"
  }
 },
 "nbformat": 4,
 "nbformat_minor": 2,
 "cells": [
  {
   "cell_type": "code",
   "execution_count": 2,
   "metadata": {},
   "outputs": [
    {
     "output_type": "stream",
     "name": "stdout",
     "text": [
      "10\n8\n6\n4\n2\nMulti alla tal blir 3840\n"
     ]
    }
   ],
   "source": [
    "\n",
    "summa=1\n",
    "for i in range(10,1,-2):\n",
    "    print(i)\n",
    "    summa *= i\n",
    "print(\"Multi alla tal blir\",summa)"
   ]
  },
  {
   "cell_type": "code",
   "execution_count": 7,
   "metadata": {
    "tags": []
   },
   "outputs": [
    {
     "output_type": "stream",
     "name": "stdout",
     "text": [
      "år:1:summan 10300.0\når:2:summan 10609.0\når:3:summan 10927.27\når:4:summan 11255.0881\når:5:summan 11592.740743\når:6:summan 11940.52296529\når:7:summan 12298.7386542487\når:8:summan 12667.700813876161\når:9:summan 13047.731838292446\når:10:summan 13439.16379344122\når:11:summan 13842.338707244457\når:12:summan 14257.60886846179\når:13:summan 14685.337134515645\når:14:summan 15125.897248551115\når:15:summan 15579.67416600765\ntotalasumma:15579.67416600765\n"
     ]
    }
   ],
   "source": [
    "tal = 10000\n",
    "start= 1\n",
    "slut= 15\n",
    "\n",
    "for i in range(start,slut+1):\n",
    "    tal*=1.03\n",
    "    if i % 1==0:\n",
    "        print(\"år:{}:summan {}\".format(i,tal))\n",
    "else:\n",
    "    print(\"totalasumma:{}\".format(tal))\n",
    "\n",
    "\n",
    "\n"
   ]
  },
  {
   "cell_type": "code",
   "execution_count": null,
   "metadata": {},
   "outputs": [],
   "source": []
  }
 ]
}