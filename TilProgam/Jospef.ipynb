{
 "metadata": {
  "language_info": {
   "codemirror_mode": {
    "name": "ipython",
    "version": 3
   },
   "file_extension": ".py",
   "mimetype": "text/x-python",
   "name": "python",
   "nbconvert_exporter": "python",
   "pygments_lexer": "ipython3",
   "version": "3.8.3-final"
  },
  "orig_nbformat": 2,
  "kernelspec": {
   "name": "python3",
   "display_name": "Python 3"
  }
 },
 "nbformat": 4,
 "nbformat_minor": 2,
 "cells": [
  {
   "cell_type": "code",
   "execution_count": 2,
   "metadata": {},
   "outputs": [
    {
     "output_type": "stream",
     "name": "stdout",
     "text": [
      "10\n8\n6\n4\n2\nMulti alla tal blir 3840\n"
     ]
    }
   ],
   "source": [
    "\n",
    "summa=1\n",
    "for i in range(10,1,-2):\n",
    "    print(i)\n",
    "    summa *= i\n",
    "print(\"Multi alla tal blir\",summa)"
   ]
  },
  {
   "cell_type": "code",
   "execution_count": 8,
   "metadata": {
    "tags": []
   },
   "outputs": [
    {
     "output_type": "stream",
     "name": "stdout",
     "text": [
      "år:1:summan 105000.0\når:2:summan 110250.0\når:3:summan 115762.5\når:4:summan 121550.625\når:5:summan 127628.15625\når:6:summan 134009.5640625\når:7:summan 140710.042265625\når:8:summan 147745.54437890626\når:9:summan 155132.82159785158\når:10:summan 162889.46267774416\når:11:summan 171033.93581163138\når:12:summan 179585.63260221295\når:13:summan 188564.91423232362\når:14:summan 197993.1599439398\når:15:summan 207892.8179411368\når:16:summan 218287.45883819365\ntotalasumma:218287.45883819365\n"
     ]
    }
   ],
   "source": [
    "tal =float(input(\"välj start tal\"))\n",
    "start= 1\n",
    "slut=int(input(\"år\"))\n",
    "ränta=float(input(\"välj ränta\"))\n",
    "for i in range(start,slut+1):\n",
    "    tal*=ränta\n",
    "    if i % 1==0:\n",
    "        print(\"år:{}:summan {}\".format(i,tal))\n",
    "else:\n",
    "    print(\"totalasumma:{}\".format(tal))\n",
    "\n",
    "\n",
    "\n"
   ]
  },
  {
   "cell_type": "code",
   "execution_count": 11,
   "metadata": {},
   "outputs": [
    {
     "output_type": "stream",
     "name": "stdout",
     "text": [
      "20\n"
     ]
    }
   ],
   "source": []
  },
  {
   "cell_type": "code",
   "execution_count": null,
   "metadata": {},
   "outputs": [],
   "source": []
  }
 ]
}