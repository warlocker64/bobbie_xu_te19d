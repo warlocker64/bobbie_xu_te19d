{
 "metadata": {
  "language_info": {
   "codemirror_mode": {
    "name": "ipython",
    "version": 3
   },
   "file_extension": ".py",
   "mimetype": "text/x-python",
   "name": "python",
   "nbconvert_exporter": "python",
   "pygments_lexer": "ipython3",
   "version": "3.9.2-final"
  },
  "orig_nbformat": 2,
  "kernelspec": {
   "name": "python3",
   "display_name": "Python 3.9.2 64-bit",
   "metadata": {
    "interpreter": {
     "hash": "5d00308750d4803cff6f6ef4ae719a260153265e9b1ccfcf3732e725a48b6d60"
    }
   }
  }
 },
 "nbformat": 4,
 "nbformat_minor": 2,
 "cells": [
  {
   "cell_type": "code",
   "execution_count": 43,
   "metadata": {},
   "outputs": [],
   "source": [
    "#Uppgift 1\n",
    "import random as rnd\n",
    "with open(\"diceRoll.txt\", \"w\") as file:\n",
    "    kast = [rnd.randint(1,6) for kast in range(10)]\n",
    "    counted = kast.count(5)\n",
    "    kastad = sorted(kast)\n",
    "    file.write(str(f\"10 kast :{kast}\"))\n",
    "    file.write(str(f\"\\n Sorted :{kastad}\"))\n",
    "    file.write(str(f\"\\n antal femmor: {counted}\"))\n",
    "\n"
   ]
  },
  {
   "cell_type": "code",
   "execution_count": 50,
   "metadata": {},
   "outputs": [
    {
     "output_type": "stream",
     "name": "stdout",
     "text": [
      "F\n['Fredrika Ulven 10', 'Sven Erik Karlsson 13']\n\nE\n['Adam Gustafsson 25', 'Emil Johansson 23', 'Hanna Karlsson 23', 'HÃ¥kan HÃ¥kanson 24', 'Ida HÃ¥kansson 23']\n\nD\n['BjÃ¶rn BjÃ¶rnsson 39', 'Bose Bosseson 32', 'Emma Boden 32', 'Erik Eriksson 31', 'Jonas Jonasson 31', 'Karl Karlsson 32', 'Sven Erik Lundin 39']\n\nC\n['Ella Ester 41', 'Johan Johansson 42', 'Ove Karlsten 41']\n\nB\n['Gore Bord 55']\n\nA\n['Jakob Kallander 65']\n\n"
     ]
    }
   ],
   "source": [
    "#Uppgift 2\n",
    "with open(\"Provresultat.txt\", \"r\") as file:\n",
    "    lines = file.readlines()\n",
    "    lines.sort \n",
    "    \n",
    "    F = []\n",
    "    E = []\n",
    "    D = []\n",
    "    C = []\n",
    "    B = []\n",
    "    A = []\n",
    "\n",
    "    for rad in lines:\n",
    "        rad = rad.strip('\\n ')\n",
    "        if str(rad[-2:]) <= str(20):\n",
    "            F.append(rad)\n",
    "        elif str(rad[-2:]) <= str(29):\n",
    "            E.append(rad)\n",
    "        elif str(rad[-2:]) <= str(39):\n",
    "            D.append(rad)\n",
    "        elif str(rad[-2:]) <= str(49):\n",
    "            C.append(rad)\n",
    "        elif str(rad[-2:]) <= str(59):\n",
    "            B.append(rad)\n",
    "        else:\n",
    "            A.append(rad)\n",
    "print(f\"F\\n{F}\\n\")\n",
    "print(f\"E\\n{E}\\n\")\n",
    "print(f\"D\\n{D}\\n\")\n",
    "print(f\"C\\n{C}\\n\")\n",
    "print(f\"B\\n{B}\\n\")\n",
    "print(f\"A\\n{A}\\n\")"
   ]
  },
  {
   "cell_type": "code",
   "execution_count": 61,
   "metadata": {},
   "outputs": [
    {
     "output_type": "error",
     "ename": "TypeError",
     "evalue": "pie() got an unexpected keyword argument 'betyg'",
     "traceback": [
      "\u001b[1;31m---------------------------------------------------------------------------\u001b[0m",
      "\u001b[1;31mTypeError\u001b[0m                                 Traceback (most recent call last)",
      "\u001b[1;32m<ipython-input-61-e2cf8d405728>\u001b[0m in \u001b[0;36m<module>\u001b[1;34m\u001b[0m\n\u001b[0;32m      3\u001b[0m \u001b[0mprocent\u001b[0m \u001b[1;33m=\u001b[0m \u001b[1;33m[\u001b[0m\u001b[1;33m]\u001b[0m\u001b[1;33m\u001b[0m\u001b[1;33m\u001b[0m\u001b[0m\n\u001b[0;32m      4\u001b[0m \u001b[0mfig1\u001b[0m\u001b[1;33m,\u001b[0m \u001b[0max1\u001b[0m \u001b[1;33m=\u001b[0m \u001b[0mplt\u001b[0m\u001b[1;33m.\u001b[0m\u001b[0msubplots\u001b[0m\u001b[1;33m(\u001b[0m\u001b[1;33m)\u001b[0m\u001b[1;33m\u001b[0m\u001b[1;33m\u001b[0m\u001b[0m\n\u001b[1;32m----> 5\u001b[1;33m \u001b[0max1\u001b[0m\u001b[1;33m.\u001b[0m\u001b[0mpie\u001b[0m\u001b[1;33m(\u001b[0m\u001b[0mprocent\u001b[0m\u001b[1;33m,\u001b[0m \u001b[0mbetyg\u001b[0m \u001b[1;33m=\u001b[0m \u001b[0mbetyg\u001b[0m\u001b[1;33m,\u001b[0m \u001b[0mautopct\u001b[0m\u001b[1;33m=\u001b[0m\u001b[1;34m'%1.1f%%'\u001b[0m\u001b[1;33m)\u001b[0m\u001b[1;33m\u001b[0m\u001b[1;33m\u001b[0m\u001b[0m\n\u001b[0m\u001b[0;32m      6\u001b[0m \u001b[0max1\u001b[0m\u001b[1;33m.\u001b[0m\u001b[0maxis\u001b[0m\u001b[1;33m(\u001b[0m\u001b[1;34m'equal'\u001b[0m\u001b[1;33m)\u001b[0m\u001b[1;33m\u001b[0m\u001b[1;33m\u001b[0m\u001b[0m\n\u001b[0;32m      7\u001b[0m \u001b[1;32mwith\u001b[0m \u001b[0mopen\u001b[0m\u001b[1;33m(\u001b[0m\u001b[1;34m\"NPvt19Ma2A.txt\"\u001b[0m\u001b[1;33m,\u001b[0m\u001b[1;34m\"r\"\u001b[0m\u001b[1;33m)\u001b[0m \u001b[1;32mas\u001b[0m \u001b[0mf1\u001b[0m\u001b[1;33m:\u001b[0m\u001b[1;33m\u001b[0m\u001b[1;33m\u001b[0m\u001b[0m\n",
      "\u001b[1;32m~\\AppData\\Local\\Packages\\PythonSoftwareFoundation.Python.3.9_qbz5n2kfra8p0\\LocalCache\\local-packages\\Python39\\site-packages\\matplotlib\\__init__.py\u001b[0m in \u001b[0;36minner\u001b[1;34m(ax, data, *args, **kwargs)\u001b[0m\n\u001b[0;32m   1445\u001b[0m     \u001b[1;32mdef\u001b[0m \u001b[0minner\u001b[0m\u001b[1;33m(\u001b[0m\u001b[0max\u001b[0m\u001b[1;33m,\u001b[0m \u001b[1;33m*\u001b[0m\u001b[0margs\u001b[0m\u001b[1;33m,\u001b[0m \u001b[0mdata\u001b[0m\u001b[1;33m=\u001b[0m\u001b[1;32mNone\u001b[0m\u001b[1;33m,\u001b[0m \u001b[1;33m**\u001b[0m\u001b[0mkwargs\u001b[0m\u001b[1;33m)\u001b[0m\u001b[1;33m:\u001b[0m\u001b[1;33m\u001b[0m\u001b[1;33m\u001b[0m\u001b[0m\n\u001b[0;32m   1446\u001b[0m         \u001b[1;32mif\u001b[0m \u001b[0mdata\u001b[0m \u001b[1;32mis\u001b[0m \u001b[1;32mNone\u001b[0m\u001b[1;33m:\u001b[0m\u001b[1;33m\u001b[0m\u001b[1;33m\u001b[0m\u001b[0m\n\u001b[1;32m-> 1447\u001b[1;33m             \u001b[1;32mreturn\u001b[0m \u001b[0mfunc\u001b[0m\u001b[1;33m(\u001b[0m\u001b[0max\u001b[0m\u001b[1;33m,\u001b[0m \u001b[1;33m*\u001b[0m\u001b[0mmap\u001b[0m\u001b[1;33m(\u001b[0m\u001b[0msanitize_sequence\u001b[0m\u001b[1;33m,\u001b[0m \u001b[0margs\u001b[0m\u001b[1;33m)\u001b[0m\u001b[1;33m,\u001b[0m \u001b[1;33m**\u001b[0m\u001b[0mkwargs\u001b[0m\u001b[1;33m)\u001b[0m\u001b[1;33m\u001b[0m\u001b[1;33m\u001b[0m\u001b[0m\n\u001b[0m\u001b[0;32m   1448\u001b[0m \u001b[1;33m\u001b[0m\u001b[0m\n\u001b[0;32m   1449\u001b[0m         \u001b[0mbound\u001b[0m \u001b[1;33m=\u001b[0m \u001b[0mnew_sig\u001b[0m\u001b[1;33m.\u001b[0m\u001b[0mbind\u001b[0m\u001b[1;33m(\u001b[0m\u001b[0max\u001b[0m\u001b[1;33m,\u001b[0m \u001b[1;33m*\u001b[0m\u001b[0margs\u001b[0m\u001b[1;33m,\u001b[0m \u001b[1;33m**\u001b[0m\u001b[0mkwargs\u001b[0m\u001b[1;33m)\u001b[0m\u001b[1;33m\u001b[0m\u001b[1;33m\u001b[0m\u001b[0m\n",
      "\u001b[1;31mTypeError\u001b[0m: pie() got an unexpected keyword argument 'betyg'"
     ]
    }
   ],
   "source": [
    "#Kom på hur man skulle göra men koden går inte??\n",
    "import matplotlib.pyplot as plt\n",
    "betyg = []\n",
    "procent = []\n",
    "fig1, ax1 = plt.subplots()\n",
    "ax1.pie(procent, betyg = betyg, autopct='%1.1f%%')\n",
    "ax1.axis('equal')\n",
    "with open(\"NPvt19Ma2A.txt\",\"r\") as f1:\n",
    "    ma = f1.readlines()\n",
    "    for rad in ma:\n",
    "        rad = rad.strip('\\n.% ')\n",
    "        betyg.append(rad[0])\n",
    "        procent.append(rad[2:])\n",
    "    plt.show()\n",
    "\n",
    "       \n"
   ]
  },
  {
   "cell_type": "code",
   "execution_count": null,
   "metadata": {},
   "outputs": [],
   "source": []
  }
 ]
}