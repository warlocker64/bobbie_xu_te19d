{
 "metadata": {
  "language_info": {
   "codemirror_mode": {
    "name": "ipython",
    "version": 3
   },
   "file_extension": ".py",
   "mimetype": "text/x-python",
   "name": "python",
   "nbconvert_exporter": "python",
   "pygments_lexer": "ipython3",
   "version": "3.8.3-final"
  },
  "orig_nbformat": 2,
  "kernelspec": {
   "name": "python3",
   "display_name": "Python 3"
  }
 },
 "nbformat": 4,
 "nbformat_minor": 2,
 "cells": [
  {
   "cell_type": "code",
   "execution_count": 4,
   "metadata": {},
   "outputs": [
    {
     "output_type": "stream",
     "name": "stdout",
     "text": [
      "6\n"
     ]
    }
   ],
   "source": [
    "name=(input(\"Skriv namn\"))\n",
    "\n",
    "print(len(name))\n"
   ]
  },
  {
   "cell_type": "code",
   "execution_count": 14,
   "metadata": {},
   "outputs": [
    {
     "output_type": "stream",
     "name": "stdout",
     "text": [
      "15\n"
     ]
    }
   ],
   "source": [
    "name= \"En bild säger mer än tusen ord, en matematisk formel säger mer än tusen bilder\"\n",
    "\n",
    "yes=name.split(\" \")\n",
    "print(len(yes))"
   ]
  },
  {
   "cell_type": "code",
   "execution_count": 39,
   "metadata": {},
   "outputs": [
    {
     "output_type": "stream",
     "name": "stdout",
     "text": [
      "this aint pog\n"
     ]
    }
   ],
   "source": [
    "name=(input(\"\"))\n",
    "if name == name[::-1] : #Om ordet är samma baklänges print this thingy\n",
    "    print(\"this is Palindrom\")\n",
    "else: #allt annat är inte en palindrom\n",
    "    print(\"this aint pog\")"
   ]
  },
  {
   "cell_type": "code",
   "execution_count": 80,
   "metadata": {},
   "outputs": [
    {
     "output_type": "stream",
     "name": "stdout",
     "text": [
      "this ain pog\n"
     ]
    }
   ],
   "source": [
    "\n",
    "name=input(\"\")\n",
    "name= name.lower()\n",
    "name2=name.replace(\" \", \"\")# tar bort mellanslag.\n",
    "if name2 == name2[::-1]: #omordet baklänges samma print this\n",
    "    print(\"this is palinom\")\n",
    "\n",
    "else:\n",
    "    print(\"this aint pog\")"
   ]
  },
  {
   "cell_type": "code",
   "execution_count": null,
   "metadata": {},
   "outputs": [],
   "source": []
  }
 ]
}